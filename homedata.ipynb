{
  "nbformat": 4,
  "nbformat_minor": 0,
  "metadata": {
    "colab": {
      "provenance": [],
      "authorship_tag": "ABX9TyP7IhfgKg1r25BvTrwbhG6w",
      "include_colab_link": true
    },
    "kernelspec": {
      "name": "python3",
      "display_name": "Python 3"
    },
    "language_info": {
      "name": "python"
    }
  },
  "cells": [
    {
      "cell_type": "markdown",
      "metadata": {
        "id": "view-in-github",
        "colab_type": "text"
      },
      "source": [
        "<a href=\"https://colab.research.google.com/github/Akshitha-1203/Akshitha-2024/blob/main/homedata.ipynb\" target=\"_parent\"><img src=\"https://colab.research.google.com/assets/colab-badge.svg\" alt=\"Open In Colab\"/></a>"
      ]
    },
    {
      "cell_type": "code",
      "execution_count": null,
      "metadata": {
        "colab": {
          "base_uri": "https://localhost:8080/"
        },
        "id": "z_HDX0UrvKlY",
        "outputId": "abbe7c3e-9104-4347-dc2a-39147da79214"
      },
      "outputs": [
        {
          "output_type": "stream",
          "name": "stdout",
          "text": [
            "[['Hour', 'Solar', 'Wind', 'WashingMachine', 'Lighting', 'Fans', 'TV', 'EV', 'Fridge', 'Others'], ['1', '0', '1.9', '0', '0', '0.1', '0', '0', '0.1', '0'], ['2', '0', '1.6', '0', '0', '0.1', '0', '0', '0.1', '0'], ['3', '0', '1.5', '0', '0', '0.1', '0', '0', '0.2', '0'], ['4', '0', '1', '0', '0', '0.1', '0', '0', '0.2', '0'], ['5', '0', '0.5', '0', '0', '0.1', '0', '0', '0.1', '0'], ['6', '0.1', '0.5', '2.3', '0', '0.05', '0', '0', '0.1', '1'], ['7', '0.5', '0', '2.3', '0', '0.05', '0', '0', '0.2', '1.3'], ['8', '0.7', '0', '0', '0', '0.05', '0.1', '0', '0.2', '1.5'], ['9', '1', '0.2', '0', '0', '0.05', '0.1', '0', '0.1', '1.2'], ['10', '1.3', '0.3', '0', '0', '0.05', '0', '0', '0.1', '0.5'], ['11', '1.3', '0.5', '0', '0', '0.05', '0', '0', '0.2', '0'], ['12', '1.5', '0.7', '0', '0', '0.05', '0', '0', '0.2', '0.5'], ['13', '1.4', '0.8', '0', '0', '0.05', '0', '0', '0.1', '0.2'], ['14', '1.4', '0.8', '0', '0', '0.05', '0', '0', '0.1', '0'], ['15', '1.2', '0.9', '0', '0', '0.05', '0', '0', '0.2', '0'], ['16', '0.9', '1', '0', '0', '0.05', '0', '0', '0.2', '0'], ['17', '0.5', '1.2', '0', '0', '0.05', '0', '0', '0.1', '0.5'], ['18', '0.2', '1.3', '0', '0.05', '0.05', '0', '0', '0.1', '0.8'], ['19', '0', '1.6', '0', '0.05', '0.1', '0', '0', '0.2', '0.9'], ['20', '0', '1.8', '0', '0.1', '0.1', '0.1', '2.3', '0.2', '1'], ['21', '0', '2', '0', '0.1', '0.1', '0.1', '2.3', '0.1', '0.5'], ['22', '0', '2.2', '0', '0.1', '0.1', '0.1', '1.8', '0.1', '0.2'], ['23', '0', '2.1', '0', '0.05', '0.1', '0', '0', '0.2', '0'], ['24', '0', '2', '0', '0', '0.1', '0', '0', '0.2', '0']]\n",
            "taking all values of load in 'kw'\n",
            "equipment that consumes the least power during the day: Lighting , least power: 0.45 kw\n",
            "wind generation is maximum in the hour: 22\n",
            "the total load is maximum in the hour: 20 , maximum total load: 5.6 kw\n",
            "the load imbalance is minimum in the hour 5 , its value: 0.5 kw\n"
          ]
        }
      ],
      "source": [
        "f=open(\"home.txt\",'r')\n",
        "l=[]\n",
        "for i in f:\n",
        "  wrdlist=i.split()\n",
        "  l.append(wrdlist)\n",
        "print(l)\n",
        "d=[]\n",
        "j=1\n",
        "a=len(l)\n",
        "b=len(l[0])\n",
        "while j!=b:\n",
        "  s=0\n",
        "  for i in range(1,a):\n",
        "    s+=float(l[i][j])\n",
        "  d.append(round(s,2))\n",
        "  j+=1\n",
        "\n",
        "op=list(d)\n",
        "d.sort()\n",
        "for k in range(0,len(op)):\n",
        "  if op[k]==d[0]:\n",
        "    break\n",
        "k+=1\n",
        "print(\"taking all values of load in \\'kw\\'\\nequipment that consumes the least power during the day:\",l[0][k],', least power:',d[0],'kw')\n",
        "d.clear()\n",
        "for i in range(1,a):\n",
        "  d.append(round(float(l[i][2]),2))\n",
        "d.sort()\n",
        "print(\"wind generation is maximum in the hour: \",end=\"\")\n",
        "for k in l:\n",
        "  if str(d[len(d)-1]) in k:\n",
        "    print(k[0])\n",
        "    break\n",
        "j=1\n",
        "d.clear()\n",
        "while j!=a:\n",
        "  s=0\n",
        "  for i in range(1,b):\n",
        "    s+=float(l[j][i])\n",
        "  d.append(round(s,2))\n",
        "  j+=1\n",
        "op=list(d)\n",
        "d.sort()\n",
        "for k in range(0,len(op)):\n",
        "  if op[k]==d[len(d)-1]:\n",
        "    break\n",
        "k+=1\n",
        "print('the total load is maximum in the hour:',k,\", maximum total load:\",d[len(d)-1],'kw')\n",
        "op=list(l[1:])\n",
        "d.clear()\n",
        "for k in op:\n",
        "  s=[]\n",
        "  for j in range(1,b):\n",
        "      s.append(float(k[j]))\n",
        "  s.sort()\n",
        "  d.append(round(float(s[len(s)-1]-s[0]),2))\n",
        "op=list(d)\n",
        "d.sort()\n",
        "for k in range(0,len(op)):\n",
        "  if op[k]==d[0]:\n",
        "    break\n",
        "k+=1\n",
        "print(\"the load imbalance is minimum in the hour\",k,\", its value:\",d[0],'kw')"
      ]
    }
  ]
}